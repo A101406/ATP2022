{
 "cells": [
  {
   "cell_type": "code",
   "execution_count": 18,
   "metadata": {},
   "outputs": [
    {
     "name": "stdout",
     "output_type": "stream",
     "text": [
      "Escolha o modo de jogo:\n",
      "Pense em um número entre 0 e 100.\n",
      "O número que pensou foi o  23 ?\n",
      "O número que pensou foi o  61 ?\n",
      "O número que pensou foi o  80 ?\n",
      "O número que pensou foi o  70 ?\n",
      "Fim do jogo!\n",
      "O número de tentativas foi  4 .\n"
     ]
    }
   ],
   "source": [
    "import random\n",
    "print(\"Escolha o modo de jogo:\")\n",
    "mod = input(\"1- Adivinhar o número; 2 - O computador adivinha o número.\")\n",
    "tent = 1\n",
    "if(mod==\"1\"):\n",
    "    x = random. randint(0,100)\n",
    "    print(\"Pensei num número entre 0 e 100. Tente adivinhar.\")\n",
    "    num = int(input(\"Resposta:\"))\n",
    "    while(num!=x):\n",
    "        if(num>x):\n",
    "            print(\"O número que pensei é menor.\")\n",
    "        if(num<x):\n",
    "            print(\"O número que pensei é maior.\")\n",
    "            \n",
    "        num = int(input(\"Resposta:\"))\n",
    "        tent = tent + 1 \n",
    "    if(num==x):\n",
    "        print(\"Acertou!\")\n",
    "        print(\"O número de tentativas foi \",tent,\".\")\n",
    "\n",
    "if(mod==\"2\"):\n",
    "    min = 0\n",
    "    max = 100\n",
    "    print(\"Pense em um número entre 0 e 100.\")\n",
    "    x = random. randint(0,100)\n",
    "    print(\"O número que pensou foi o \",x,\"?\")\n",
    "    N = input(\"Responda Sim, Maior ou Menor: \")\n",
    "    while (N!=\"Sim\"):\n",
    "        if (N==\"Maior\"):\n",
    "            min = x\n",
    "            x = int((max+min)/2)\n",
    "            print(\"O número que pensou foi o \",x,\"?\")\n",
    "            N = input(\"Responda Sim, Maior ou Menor: \")\n",
    "            tent = tent + 1\n",
    "        if (N==\"Menor\"):\n",
    "            max = x\n",
    "            x = int((max+min)/2)\n",
    "            print(\"O número que pensou foi o \",x,\"?\")\n",
    "            N = input(\"Responda Sim, Maior ou Menor: \")\n",
    "            tent = tent + 1\n",
    "    if (N==\"Sim\"):\n",
    "        print(\"Fim do jogo!\")\n",
    "        print(\"O número de tentativas foi \", tent,\".\")\n",
    "\n",
    "  "
   ]
  }
 ],
 "metadata": {
  "kernelspec": {
   "display_name": "Python 3.10.7 64-bit (system)",
   "language": "python",
   "name": "python3"
  },
  "language_info": {
   "codemirror_mode": {
    "name": "ipython",
    "version": 3
   },
   "file_extension": ".py",
   "mimetype": "text/x-python",
   "name": "python",
   "nbconvert_exporter": "python",
   "pygments_lexer": "ipython3",
   "version": "3.10.7"
  },
  "orig_nbformat": 4,
  "vscode": {
   "interpreter": {
    "hash": "fd6c746f4d6efe70f952c620f21aa4e973e780f5c50c0fb2a32c6af7bbe3c6fb"
   }
  }
 },
 "nbformat": 4,
 "nbformat_minor": 2
}
